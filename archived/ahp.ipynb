{
 "cells": [
  {
   "cell_type": "code",
   "execution_count": 1,
   "metadata": {},
   "outputs": [],
   "source": [
    "import pandas as pd\n",
    "import numpy as np"
   ]
  },
  {
   "cell_type": "code",
   "execution_count": 29,
   "metadata": {},
   "outputs": [],
   "source": [
    "# Level 0 \n",
    "level_0 = [\"lokasi\", \"biaya\", \"fasilitas\"]\n",
    "\n",
    "# Level 1\n",
    "level_1_lokasi = [\"<3k\", \"4-5km\", \">5km\"]\n",
    "level_1_biaya = [\">2jt\", \"3-4jt\", \"<5jt\"]\n",
    "level_1_fasilitas = [\"krg lengkap\", \"lengkap\", \"sgt lengkap\"]\n",
    "\n",
    "# Level 2 (Alternatives)\n",
    "alternatives = [\"sma1\", \"sma2\", \"sma3\"]"
   ]
  },
  {
   "cell_type": "code",
   "execution_count": 21,
   "metadata": {},
   "outputs": [],
   "source": [
    "# Input perbandingan kriteria (pairwise comparison)\n",
    "def input_perbandingan_kriteria(list_criteria):\n",
    "    df = pd.DataFrame(index=list_criteria, columns=list_criteria)\n",
    "    for i in range(len(list_criteria)):\n",
    "        for j in range(i+1, len(list_criteria)): \n",
    "            print(list_criteria[i], \"vs\", list_criteria[j])\n",
    "            v = float(input(\"Masukkan nilai...\"))\n",
    "\n",
    "            df.loc[list_criteria[i], list_criteria[j]] = 1/v\n",
    "            df.loc[list_criteria[j], list_criteria[i]] = v\n",
    "    else:\n",
    "        np.fill_diagonal(df.values, 1)\n",
    "\n",
    "    return df"
   ]
  },
  {
   "cell_type": "code",
   "execution_count": 8,
   "metadata": {},
   "outputs": [
    {
     "name": "stdout",
     "output_type": "stream",
     "text": [
      "lokasi vs biaya\n",
      "lokasi vs fasilitas\n",
      "biaya vs fasilitas\n"
     ]
    }
   ],
   "source": [
    "df_level_0 = input_perbandingan_kriteria(level_0)"
   ]
  },
  {
   "cell_type": "code",
   "execution_count": 18,
   "metadata": {},
   "outputs": [
    {
     "name": "stdout",
     "output_type": "stream",
     "text": [
      "<3k vs 4-5km\n",
      "<3k vs >5km\n",
      "4-5km vs >5km\n"
     ]
    }
   ],
   "source": [
    "df_level_1_lokasi = input_perbandingan_kriteria(level_1_lokasi)"
   ]
  },
  {
   "cell_type": "code",
   "execution_count": 22,
   "metadata": {},
   "outputs": [
    {
     "name": "stdout",
     "output_type": "stream",
     "text": [
      ">2jt vs 3-4jt\n",
      ">2jt vs <5jt\n",
      "3-4jt vs <5jt\n"
     ]
    }
   ],
   "source": [
    "df_level_1_biaya = input_perbandingan_kriteria(level_1_biaya)"
   ]
  },
  {
   "cell_type": "code",
   "execution_count": 23,
   "metadata": {},
   "outputs": [
    {
     "name": "stdout",
     "output_type": "stream",
     "text": [
      "krg lengkap vs lengkap\n",
      "krg lengkap vs sgt lengkap\n",
      "lengkap vs sgt lengkap\n"
     ]
    }
   ],
   "source": [
    "df_level_1_fasilitas = input_perbandingan_kriteria(level_1_fasilitas)"
   ]
  },
  {
   "cell_type": "code",
   "execution_count": 13,
   "metadata": {},
   "outputs": [],
   "source": [
    "ri_dict = {\n",
    "    \"1\": 0.00,\n",
    "    \"2\": 0.00,\n",
    "    \"3\": 0.58,\n",
    "    \"4\": 0.90,\n",
    "    \"5\": 1.12,\n",
    "    \"6\": 1.24,\n",
    "    \"7\": 1.32,\n",
    "    \"8\": 1.41,\n",
    "    \"9\": 1.45,\n",
    "    \"10\": 1.49\n",
    "}\n",
    "\n",
    "def process(df_pairwise):\n",
    "    criteria = df_pairwise.columns\n",
    "\n",
    "    # hitung total vertikal\n",
    "    list_sum = []\n",
    "    for i in range(len(df_pairwise.columns)):\n",
    "        list_sum.append(df_pairwise.iloc[:, i].sum())\n",
    "    temp = pd.DataFrame(index=[\"total\"], columns=df_pairwise.columns)\n",
    "    temp.loc[\"total\"] = list_sum\n",
    "    df_pairwise = pd.concat([df_pairwise, temp])\n",
    "    total_awal = df_pairwise.loc[\"total\"].copy()\n",
    "\n",
    "    # Normalisasi\n",
    "    for i in range(len(df_pairwise.columns)):\n",
    "        total = df_pairwise.iloc[-1, i]\n",
    "        for j in range(len(df_pairwise.columns)):\n",
    "            df_pairwise.iloc[j, i] = df_pairwise.iloc[j, i] / total    \n",
    "\n",
    "    # Hitung jumlah vertikal (lagi)\n",
    "    list_sum = []\n",
    "    for i in range(len(df_pairwise.columns)):\n",
    "        list_sum.append(df_pairwise.iloc[:-1, i].sum())\n",
    "    df_pairwise.loc[\"total\"] = list_sum\n",
    "\n",
    "    # Hitung jumlah horizontal\n",
    "    list_sum = []\n",
    "    for i in range(len(df_pairwise.index)):\n",
    "        list_sum.append(df_pairwise.iloc[i, :].sum())\n",
    "\n",
    "    df_pairwise['jumlah'] = list_sum\n",
    "\n",
    "    # Prioritas\n",
    "    df_pairwise[\"prioritas\"] = df_pairwise[\"jumlah\"] / len(criteria)\n",
    "\n",
    "    # Eigen Values\n",
    "    list_prioritas = df_pairwise[\"prioritas\"].iloc[:-1].to_list()\n",
    "    list_total_awal = total_awal.to_list()\n",
    "    eigen_values = [list_prioritas[i] * list_total_awal[i] for i in range(len(list_prioritas))]\n",
    "    eigen_values.append(sum(eigen_values))\n",
    "    df_pairwise[\"eigen_value\"] = eigen_values\n",
    "\n",
    "    # Hitung CI\n",
    "    total_eigen = df_pairwise[\"eigen_value\"].iloc[-1]\n",
    "    ci = (total_eigen-len(criteria)) / (len(criteria)-1)\n",
    "\n",
    "    # Hitung CR\n",
    "    ri = ri_dict[str(len(criteria))]\n",
    "    cr = ci/ri\n",
    "\n",
    "    return df_pairwise, ci, ri, cr"
   ]
  },
  {
   "cell_type": "code",
   "execution_count": 24,
   "metadata": {},
   "outputs": [],
   "source": [
    "df_pairwise_0, ci_0, ri_0, cr_0 = process(df_level_0)\n",
    "df_pairwise_lokasi, ci_lokasi, ri_lokasi, cr_lokasi = process(df_level_1_lokasi)\n",
    "df_pairwise_biaya, ci_biaya, ri_biaya, cr_biaya = process(df_level_1_biaya)\n",
    "df_pairwise_fasilitas, ci_fasilitas, ri_fasilitas, cr_fasilitas = process(df_level_1_fasilitas)"
   ]
  },
  {
   "cell_type": "code",
   "execution_count": 34,
   "metadata": {},
   "outputs": [
    {
     "data": {
      "text/html": [
       "<div>\n",
       "<style scoped>\n",
       "    .dataframe tbody tr th:only-of-type {\n",
       "        vertical-align: middle;\n",
       "    }\n",
       "\n",
       "    .dataframe tbody tr th {\n",
       "        vertical-align: top;\n",
       "    }\n",
       "\n",
       "    .dataframe thead th {\n",
       "        text-align: right;\n",
       "    }\n",
       "</style>\n",
       "<table border=\"1\" class=\"dataframe\">\n",
       "  <thead>\n",
       "    <tr style=\"text-align: right;\">\n",
       "      <th></th>\n",
       "      <th>lokasi</th>\n",
       "      <th>biaya</th>\n",
       "      <th>fasilitas</th>\n",
       "    </tr>\n",
       "  </thead>\n",
       "  <tbody>\n",
       "    <tr>\n",
       "      <th>sma1</th>\n",
       "      <td>&gt;5km</td>\n",
       "      <td>3-4jt</td>\n",
       "      <td>lengkap</td>\n",
       "    </tr>\n",
       "    <tr>\n",
       "      <th>sma2</th>\n",
       "      <td>4-5km</td>\n",
       "      <td>&gt;2jt</td>\n",
       "      <td>krg lengkap</td>\n",
       "    </tr>\n",
       "    <tr>\n",
       "      <th>sma3</th>\n",
       "      <td>&lt;3k</td>\n",
       "      <td>&lt;5jt</td>\n",
       "      <td>sgt lengkap</td>\n",
       "    </tr>\n",
       "  </tbody>\n",
       "</table>\n",
       "</div>"
      ],
      "text/plain": [
       "     lokasi  biaya    fasilitas\n",
       "sma1   >5km  3-4jt      lengkap\n",
       "sma2  4-5km   >2jt  krg lengkap\n",
       "sma3    <3k   <5jt  sgt lengkap"
      ]
     },
     "execution_count": 34,
     "metadata": {},
     "output_type": "execute_result"
    }
   ],
   "source": [
    "df_alternatives = pd.DataFrame(index=alternatives, columns=level_0)\n",
    "data = dict(\n",
    "    sma1 = [\">5km\", \"3-4jt\", \"lengkap\"],\n",
    "    sma2 = [\"4-5km\", \">2jt\", \"krg lengkap\"],\n",
    "    sma3 = [\"<3k\", \"<5jt\", \"sgt lengkap\"]\n",
    ")\n",
    "\n",
    "for k in data:\n",
    "    df_alternatives.loc[k, :] = data[k]\n",
    "\n",
    "df_alternatives"
   ]
  },
  {
   "cell_type": "code",
   "execution_count": 35,
   "metadata": {},
   "outputs": [
    {
     "data": {
      "text/html": [
       "<div>\n",
       "<style scoped>\n",
       "    .dataframe tbody tr th:only-of-type {\n",
       "        vertical-align: middle;\n",
       "    }\n",
       "\n",
       "    .dataframe tbody tr th {\n",
       "        vertical-align: top;\n",
       "    }\n",
       "\n",
       "    .dataframe thead th {\n",
       "        text-align: right;\n",
       "    }\n",
       "</style>\n",
       "<table border=\"1\" class=\"dataframe\">\n",
       "  <thead>\n",
       "    <tr style=\"text-align: right;\">\n",
       "      <th></th>\n",
       "      <th>lokasi</th>\n",
       "      <th>biaya</th>\n",
       "      <th>fasilitas</th>\n",
       "      <th>jumlah</th>\n",
       "      <th>prioritas</th>\n",
       "      <th>eigen_value</th>\n",
       "    </tr>\n",
       "  </thead>\n",
       "  <tbody>\n",
       "    <tr>\n",
       "      <th>lokasi</th>\n",
       "      <td>0.111111</td>\n",
       "      <td>0.076923</td>\n",
       "      <td>0.130435</td>\n",
       "      <td>0.318469</td>\n",
       "      <td>0.106156</td>\n",
       "      <td>0.955407</td>\n",
       "    </tr>\n",
       "    <tr>\n",
       "      <th>biaya</th>\n",
       "      <td>0.333333</td>\n",
       "      <td>0.230769</td>\n",
       "      <td>0.217391</td>\n",
       "      <td>0.781494</td>\n",
       "      <td>0.260498</td>\n",
       "      <td>1.128824</td>\n",
       "    </tr>\n",
       "    <tr>\n",
       "      <th>fasilitas</th>\n",
       "      <td>0.555556</td>\n",
       "      <td>0.692308</td>\n",
       "      <td>0.652174</td>\n",
       "      <td>1.900037</td>\n",
       "      <td>0.633346</td>\n",
       "      <td>0.971130</td>\n",
       "    </tr>\n",
       "    <tr>\n",
       "      <th>total</th>\n",
       "      <td>1.0</td>\n",
       "      <td>1.0</td>\n",
       "      <td>1.0</td>\n",
       "      <td>3.000000</td>\n",
       "      <td>1.000000</td>\n",
       "      <td>3.055361</td>\n",
       "    </tr>\n",
       "  </tbody>\n",
       "</table>\n",
       "</div>"
      ],
      "text/plain": [
       "             lokasi     biaya fasilitas    jumlah  prioritas  eigen_value\n",
       "lokasi     0.111111  0.076923  0.130435  0.318469   0.106156     0.955407\n",
       "biaya      0.333333  0.230769  0.217391  0.781494   0.260498     1.128824\n",
       "fasilitas  0.555556  0.692308  0.652174  1.900037   0.633346     0.971130\n",
       "total           1.0       1.0       1.0  3.000000   1.000000     3.055361"
      ]
     },
     "execution_count": 35,
     "metadata": {},
     "output_type": "execute_result"
    }
   ],
   "source": [
    "df_pairwise_0"
   ]
  },
  {
   "cell_type": "code",
   "execution_count": 58,
   "metadata": {},
   "outputs": [],
   "source": [
    "prio_level_0 = df_pairwise_0[\"prioritas\"].iloc[:-1].to_dict()\n",
    "prio_lokasi = df_pairwise_lokasi[\"prioritas\"].iloc[:-1].to_dict()\n",
    "prio_biaya = df_pairwise_biaya[\"prioritas\"].iloc[:-1].to_dict()\n",
    "prio_fasilitas = df_pairwise_fasilitas[\"prioritas\"].iloc[:-1].to_dict()"
   ]
  },
  {
   "cell_type": "code",
   "execution_count": 50,
   "metadata": {},
   "outputs": [
    {
     "data": {
      "text/html": [
       "<div>\n",
       "<style scoped>\n",
       "    .dataframe tbody tr th:only-of-type {\n",
       "        vertical-align: middle;\n",
       "    }\n",
       "\n",
       "    .dataframe tbody tr th {\n",
       "        vertical-align: top;\n",
       "    }\n",
       "\n",
       "    .dataframe thead th {\n",
       "        text-align: right;\n",
       "    }\n",
       "</style>\n",
       "<table border=\"1\" class=\"dataframe\">\n",
       "  <thead>\n",
       "    <tr style=\"text-align: right;\">\n",
       "      <th></th>\n",
       "      <th>lokasi</th>\n",
       "      <th>biaya</th>\n",
       "      <th>fasilitas</th>\n",
       "    </tr>\n",
       "  </thead>\n",
       "  <tbody>\n",
       "    <tr>\n",
       "      <th>sma1</th>\n",
       "      <td>&gt;5km</td>\n",
       "      <td>3-4jt</td>\n",
       "      <td>lengkap</td>\n",
       "    </tr>\n",
       "    <tr>\n",
       "      <th>sma2</th>\n",
       "      <td>4-5km</td>\n",
       "      <td>&gt;2jt</td>\n",
       "      <td>krg lengkap</td>\n",
       "    </tr>\n",
       "    <tr>\n",
       "      <th>sma3</th>\n",
       "      <td>&lt;3k</td>\n",
       "      <td>&lt;5jt</td>\n",
       "      <td>sgt lengkap</td>\n",
       "    </tr>\n",
       "  </tbody>\n",
       "</table>\n",
       "</div>"
      ],
      "text/plain": [
       "     lokasi  biaya    fasilitas\n",
       "sma1   >5km  3-4jt      lengkap\n",
       "sma2  4-5km   >2jt  krg lengkap\n",
       "sma3    <3k   <5jt  sgt lengkap"
      ]
     },
     "execution_count": 50,
     "metadata": {},
     "output_type": "execute_result"
    }
   ],
   "source": [
    "df_alternatives"
   ]
  },
  {
   "cell_type": "code",
   "execution_count": 51,
   "metadata": {},
   "outputs": [
    {
     "data": {
      "text/html": [
       "<div>\n",
       "<style scoped>\n",
       "    .dataframe tbody tr th:only-of-type {\n",
       "        vertical-align: middle;\n",
       "    }\n",
       "\n",
       "    .dataframe tbody tr th {\n",
       "        vertical-align: top;\n",
       "    }\n",
       "\n",
       "    .dataframe thead th {\n",
       "        text-align: right;\n",
       "    }\n",
       "</style>\n",
       "<table border=\"1\" class=\"dataframe\">\n",
       "  <thead>\n",
       "    <tr style=\"text-align: right;\">\n",
       "      <th></th>\n",
       "      <th>lokasi</th>\n",
       "      <th>biaya</th>\n",
       "      <th>fasilitas</th>\n",
       "    </tr>\n",
       "  </thead>\n",
       "  <tbody>\n",
       "    <tr>\n",
       "      <th>sma1</th>\n",
       "      <td>NaN</td>\n",
       "      <td>NaN</td>\n",
       "      <td>NaN</td>\n",
       "    </tr>\n",
       "    <tr>\n",
       "      <th>sma2</th>\n",
       "      <td>NaN</td>\n",
       "      <td>NaN</td>\n",
       "      <td>NaN</td>\n",
       "    </tr>\n",
       "    <tr>\n",
       "      <th>sma3</th>\n",
       "      <td>NaN</td>\n",
       "      <td>NaN</td>\n",
       "      <td>NaN</td>\n",
       "    </tr>\n",
       "  </tbody>\n",
       "</table>\n",
       "</div>"
      ],
      "text/plain": [
       "     lokasi biaya fasilitas\n",
       "sma1    NaN   NaN       NaN\n",
       "sma2    NaN   NaN       NaN\n",
       "sma3    NaN   NaN       NaN"
      ]
     },
     "execution_count": 51,
     "metadata": {},
     "output_type": "execute_result"
    }
   ],
   "source": [
    "hasil_akhir = pd.DataFrame(index=alternatives, columns=level_0)\n",
    "hasil_akhir"
   ]
  },
  {
   "cell_type": "code",
   "execution_count": 68,
   "metadata": {},
   "outputs": [],
   "source": [
    "for alt in df_alternatives.index:\n",
    "    for crit in df_alternatives.columns:\n",
    "        # Nilai alternatif\n",
    "        n_a = df_alternatives.loc[alt, crit]\n",
    "        # n_a0 = nilai prioritas level 0\n",
    "        n_a0 = prio_level_0[crit]\n",
    "        \n",
    "        if crit == \"lokasi\":\n",
    "            # n_h = nilai akhir\n",
    "            n_h = n_a0 * prio_lokasi[n_a]\n",
    "        elif crit == \"biaya\":\n",
    "            n_h = n_a0 * prio_biaya[n_a]\n",
    "        else:\n",
    "            n_h = n_a0 * prio_fasilitas[n_a]\n",
    "\n",
    "        hasil_akhir.loc[alt, crit] = n_h"
   ]
  },
  {
   "cell_type": "code",
   "execution_count": 70,
   "metadata": {},
   "outputs": [],
   "source": [
    "# hitung total horizontal\n",
    "list_sum = []\n",
    "for i in range(len(hasil_akhir.index)):\n",
    "    list_sum.append(hasil_akhir.iloc[i, :].sum())\n",
    "\n",
    "hasil_akhir['jumlah'] = list_sum"
   ]
  },
  {
   "cell_type": "code",
   "execution_count": 72,
   "metadata": {},
   "outputs": [
    {
     "data": {
      "text/html": [
       "<div>\n",
       "<style scoped>\n",
       "    .dataframe tbody tr th:only-of-type {\n",
       "        vertical-align: middle;\n",
       "    }\n",
       "\n",
       "    .dataframe tbody tr th {\n",
       "        vertical-align: top;\n",
       "    }\n",
       "\n",
       "    .dataframe thead th {\n",
       "        text-align: right;\n",
       "    }\n",
       "</style>\n",
       "<table border=\"1\" class=\"dataframe\">\n",
       "  <thead>\n",
       "    <tr style=\"text-align: right;\">\n",
       "      <th></th>\n",
       "      <th>lokasi</th>\n",
       "      <th>biaya</th>\n",
       "      <th>fasilitas</th>\n",
       "      <th>jumlah</th>\n",
       "    </tr>\n",
       "  </thead>\n",
       "  <tbody>\n",
       "    <tr>\n",
       "      <th>sma1</th>\n",
       "      <td>0.066529</td>\n",
       "      <td>0.074334</td>\n",
       "      <td>0.135053</td>\n",
       "      <td>0.275917</td>\n",
       "    </tr>\n",
       "    <tr>\n",
       "      <th>sma2</th>\n",
       "      <td>0.027957</td>\n",
       "      <td>0.056792</td>\n",
       "      <td>0.05404</td>\n",
       "      <td>0.138789</td>\n",
       "    </tr>\n",
       "    <tr>\n",
       "      <th>sma3</th>\n",
       "      <td>0.011671</td>\n",
       "      <td>0.129372</td>\n",
       "      <td>0.444252</td>\n",
       "      <td>0.585295</td>\n",
       "    </tr>\n",
       "  </tbody>\n",
       "</table>\n",
       "</div>"
      ],
      "text/plain": [
       "        lokasi     biaya fasilitas    jumlah\n",
       "sma1  0.066529  0.074334  0.135053  0.275917\n",
       "sma2  0.027957  0.056792   0.05404  0.138789\n",
       "sma3  0.011671  0.129372  0.444252  0.585295"
      ]
     },
     "execution_count": 72,
     "metadata": {},
     "output_type": "execute_result"
    }
   ],
   "source": [
    "hasil_akhir"
   ]
  }
 ],
 "metadata": {
  "kernelspec": {
   "display_name": "Python 3",
   "language": "python",
   "name": "python3"
  },
  "language_info": {
   "codemirror_mode": {
    "name": "ipython",
    "version": 3
   },
   "file_extension": ".py",
   "mimetype": "text/x-python",
   "name": "python",
   "nbconvert_exporter": "python",
   "pygments_lexer": "ipython3",
   "version": "3.10.7"
  }
 },
 "nbformat": 4,
 "nbformat_minor": 2
}
