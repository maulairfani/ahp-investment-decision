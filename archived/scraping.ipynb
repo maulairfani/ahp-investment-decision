{
 "cells": [
  {
   "cell_type": "code",
   "execution_count": 11,
   "metadata": {},
   "outputs": [
    {
     "data": {
      "text/plain": [
       "True"
      ]
     },
     "execution_count": 11,
     "metadata": {},
     "output_type": "execute_result"
    }
   ],
   "source": [
    "import requests\n",
    "import json\n",
    "from tqdm import tqdm\n",
    "import os\n",
    "import pandas as pd\n",
    "import ast\n",
    "import random\n",
    "\n",
    "from dotenv import load_dotenv\n",
    "load_dotenv()"
   ]
  },
  {
   "cell_type": "code",
   "execution_count": 78,
   "metadata": {},
   "outputs": [],
   "source": [
    "url = \"https://exodus.stockbit.com/screener/templates\"\n",
    "headers = {\"Authorization\": os.getenv(\"BEARER_TOKEN\")}"
   ]
  },
  {
   "cell_type": "code",
   "execution_count": 186,
   "metadata": {},
   "outputs": [],
   "source": [
    "df_payload = pd.read_csv(\"data/Stock Screeners - Payload.csv\")\n",
    "df_payload['payload'] = df_payload['payload'].apply(lambda x: ast.literal_eval(x))\n",
    "\n",
    "payloads = df_payload['payload']\n",
    "ratios = df_payload['ratio']"
   ]
  },
  {
   "cell_type": "code",
   "execution_count": 187,
   "metadata": {},
   "outputs": [
    {
     "name": "stdout",
     "output_type": "stream",
     "text": [
      "market_cap\n"
     ]
    },
    {
     "name": "stderr",
     "output_type": "stream",
     "text": [
      "100%|██████████| 36/36 [00:14<00:00,  2.50it/s]\n"
     ]
    },
    {
     "name": "stdout",
     "output_type": "stream",
     "text": [
      "enterprise_value\n"
     ]
    },
    {
     "name": "stderr",
     "output_type": "stream",
     "text": [
      "100%|██████████| 36/36 [00:14<00:00,  2.41it/s]\n"
     ]
    },
    {
     "name": "stdout",
     "output_type": "stream",
     "text": [
      "current_shares_outstanding\n"
     ]
    },
    {
     "name": "stderr",
     "output_type": "stream",
     "text": [
      "100%|██████████| 36/36 [00:13<00:00,  2.68it/s]\n"
     ]
    },
    {
     "name": "stdout",
     "output_type": "stream",
     "text": [
      "roe\n"
     ]
    },
    {
     "name": "stderr",
     "output_type": "stream",
     "text": [
      "100%|██████████| 36/36 [00:13<00:00,  2.58it/s]\n"
     ]
    },
    {
     "name": "stdout",
     "output_type": "stream",
     "text": [
      "npm\n"
     ]
    },
    {
     "name": "stderr",
     "output_type": "stream",
     "text": [
      "100%|██████████| 36/36 [00:13<00:00,  2.75it/s]\n"
     ]
    },
    {
     "name": "stdout",
     "output_type": "stream",
     "text": [
      "cr\n"
     ]
    },
    {
     "name": "stderr",
     "output_type": "stream",
     "text": [
      "100%|██████████| 36/36 [00:13<00:00,  2.77it/s]\n"
     ]
    },
    {
     "name": "stdout",
     "output_type": "stream",
     "text": [
      "der\n"
     ]
    },
    {
     "name": "stderr",
     "output_type": "stream",
     "text": [
      "100%|██████████| 36/36 [00:13<00:00,  2.76it/s]\n"
     ]
    },
    {
     "name": "stdout",
     "output_type": "stream",
     "text": [
      "per\n"
     ]
    },
    {
     "name": "stderr",
     "output_type": "stream",
     "text": [
      "100%|██████████| 36/36 [00:13<00:00,  2.57it/s]\n"
     ]
    },
    {
     "name": "stdout",
     "output_type": "stream",
     "text": [
      "pfc\n"
     ]
    },
    {
     "name": "stderr",
     "output_type": "stream",
     "text": [
      "100%|██████████| 36/36 [00:13<00:00,  2.71it/s]\n"
     ]
    },
    {
     "name": "stdout",
     "output_type": "stream",
     "text": [
      "pbv\n"
     ]
    },
    {
     "name": "stderr",
     "output_type": "stream",
     "text": [
      "100%|██████████| 36/36 [00:14<00:00,  2.54it/s]\n"
     ]
    },
    {
     "name": "stdout",
     "output_type": "stream",
     "text": [
      "eps_growth\n"
     ]
    },
    {
     "name": "stderr",
     "output_type": "stream",
     "text": [
      "100%|██████████| 36/36 [00:13<00:00,  2.74it/s]\n"
     ]
    },
    {
     "name": "stdout",
     "output_type": "stream",
     "text": [
      "sales_growth\n"
     ]
    },
    {
     "name": "stderr",
     "output_type": "stream",
     "text": [
      "100%|██████████| 36/36 [00:14<00:00,  2.51it/s]\n"
     ]
    }
   ],
   "source": [
    "for ratio, payload in zip(ratios, payloads):\n",
    "    result = []\n",
    "    print(ratio)\n",
    "    for i in tqdm(range(36)):\n",
    "        payload['page'] = i + 1\n",
    "        r = requests.post(url=url, headers=headers, data=json.dumps(payload))\n",
    "        content = json.loads(r.content.decode('utf-8'))\n",
    "        result.extend(content['data']['calcs'])\n",
    "    \n",
    "    with open(f'data/ratios/{ratio}.json', 'w') as f:\n",
    "        json.dump(result, f)"
   ]
  },
  {
   "cell_type": "code",
   "execution_count": 189,
   "metadata": {},
   "outputs": [
    {
     "name": "stderr",
     "output_type": "stream",
     "text": [
      "100%|██████████| 12/12 [00:00<00:00, 61.82it/s]\n"
     ]
    }
   ],
   "source": [
    "data_ratios = dict()\n",
    "\n",
    "for f in tqdm(os.listdir('data/ratios')):\n",
    "    with open(f'data/ratios/{f}', 'r') as file:\n",
    "        data_ratios[f[:-5]] = json.load(file)"
   ]
  },
  {
   "cell_type": "code",
   "execution_count": 196,
   "metadata": {},
   "outputs": [],
   "source": [
    "cols = [\n",
    "    'Ticker Code',\n",
    "    'Current Ratio (Quarter)',\n",
    "    'Current Share Outstanding',\n",
    "    'Debt to Equity Ratio (Quarter)',\n",
    "    'Enterprise Value',\n",
    "    'EPS Growth Streak',\n",
    "    'Market Cap',\n",
    "    'Net Profit Margin (TTM)(%)',\n",
    "    'Current Price to Book Value',\n",
    "    'Current PE Ratio (TTM)',\n",
    "    'Current Price To Free Cashflow (TTM)',\n",
    "    'Return on Equity (TTM)',\n",
    "    'Sales Growth Streak'\n",
    "]"
   ]
  },
  {
   "cell_type": "code",
   "execution_count": 203,
   "metadata": {},
   "outputs": [],
   "source": [
    "alternatives = ['ADRO', 'PWON', 'TLKM', 'INDF', 'SMGR']"
   ]
  },
  {
   "cell_type": "code",
   "execution_count": 204,
   "metadata": {},
   "outputs": [
    {
     "name": "stdout",
     "output_type": "stream",
     "text": [
      "ADRO\n"
     ]
    },
    {
     "name": "stderr",
     "output_type": "stream",
     "text": [
      "100%|██████████| 12/12 [00:00<00:00, 3418.34it/s]\n"
     ]
    },
    {
     "name": "stdout",
     "output_type": "stream",
     "text": [
      "PWON\n"
     ]
    },
    {
     "name": "stderr",
     "output_type": "stream",
     "text": [
      "100%|██████████| 12/12 [00:00<00:00, 10852.02it/s]\n"
     ]
    },
    {
     "name": "stdout",
     "output_type": "stream",
     "text": [
      "TLKM\n"
     ]
    },
    {
     "name": "stderr",
     "output_type": "stream",
     "text": [
      "100%|██████████| 12/12 [00:00<00:00, 1807.11it/s]\n"
     ]
    },
    {
     "name": "stdout",
     "output_type": "stream",
     "text": [
      "INDF\n"
     ]
    },
    {
     "name": "stderr",
     "output_type": "stream",
     "text": [
      "100%|██████████| 12/12 [00:00<00:00, 1290.13it/s]\n"
     ]
    },
    {
     "name": "stdout",
     "output_type": "stream",
     "text": [
      "SMGR\n"
     ]
    },
    {
     "name": "stderr",
     "output_type": "stream",
     "text": [
      "100%|██████████| 12/12 [00:00<00:00, 7950.03it/s]\n"
     ]
    }
   ],
   "source": [
    "df_alternatives = pd.DataFrame(columns=cols)\n",
    "for a in alternatives:\n",
    "    print(a)\n",
    "    temp_dict = {\n",
    "        'Ticker Code': [a]\n",
    "    }\n",
    "    for key in tqdm(data_ratios.keys()):\n",
    "        for i in range(len(data_ratios[key])):\n",
    "            if data_ratios[key][i]['company']['symbol'] == a:\n",
    "                val = data_ratios[key][i]['results'][0]['display']\n",
    "                item_name = data_ratios[key][i]['results'][0]['item']\n",
    "\n",
    "                temp_dict[item_name] = val\n",
    "        \n",
    "    temp = pd.DataFrame(temp_dict)\n",
    "    df_alternatives = pd.concat([df_alternatives, temp])"
   ]
  },
  {
   "cell_type": "markdown",
   "metadata": {},
   "source": [
    "# Sektor"
   ]
  },
  {
   "cell_type": "code",
   "execution_count": 264,
   "metadata": {},
   "outputs": [],
   "source": [
    "sectors = {\n",
    "    'Barang Konsumen Primer' : 1, \n",
    "    'Kesehatan' : 2, \n",
    "    'Keuangan' : 3, \n",
    "    'Barang Konsumen Non-Primer' : 4, \n",
    "    'Properti & Real Estat' : 5, \n",
    "    'Perindustrian' : 6, \n",
    "    'Energi': 7, \n",
    "    'Barang Baku' : 8, \n",
    "    'Infrastruktur' : 9, \n",
    "    'Teknologi' : 50, \n",
    "    'Transportasi & Logistik' : 51\n",
    "}"
   ]
  },
  {
   "cell_type": "code",
   "execution_count": 314,
   "metadata": {},
   "outputs": [
    {
     "name": "stderr",
     "output_type": "stream",
     "text": [
      "11it [00:15,  1.37s/it]\n"
     ]
    }
   ],
   "source": [
    "series_sector = []\n",
    "series_ticker = []\n",
    "for id_sec, s in tqdm(zip(sectors.values(), sectors.keys())):\n",
    "    url = \"https://exodus.stockbit.com/emitten/sectors/{}/subsectors\"\n",
    "    r = requests.get(url.format(id_sec), headers=headers)\n",
    "    r = json.loads(r.content.decode('utf-8'))\n",
    "    id_subsectors = [r['data'][j]['id'] for j in range(len(r['data']))]\n",
    "\n",
    "    for id_sub in id_subsectors:\n",
    "        url = f\"https://exodus.stockbit.com/emitten/v3/sector/{id_sec}/subsector/{id_sub}/company\"\n",
    "        r2 = requests.get(url, headers=headers)\n",
    "        r2 = json.loads(r2.content.decode('utf-8'))\n",
    "        ticker = [r2['data'][k]['symbol'] for k in range(len(r2['data']))]\n",
    "\n",
    "        series_sector.extend([s]*len(ticker))\n",
    "        series_ticker.extend(ticker)"
   ]
  },
  {
   "cell_type": "code",
   "execution_count": 328,
   "metadata": {},
   "outputs": [],
   "source": [
    "pd.DataFrame({'sector':series_sector, 'ticker':series_ticker}).to_csv('sector.csv', index=False)"
   ]
  },
  {
   "cell_type": "markdown",
   "metadata": {},
   "source": [
    "# Index"
   ]
  },
  {
   "cell_type": "code",
   "execution_count": 326,
   "metadata": {},
   "outputs": [
    {
     "name": "stderr",
     "output_type": "stream",
     "text": [
      "4it [00:01,  2.67it/s]\n"
     ]
    }
   ],
   "source": [
    "index_map = {\n",
    "    'LQ45': 550,\n",
    "    'IDX30': 559,\n",
    "    'IDXHIDIV20': 1000000010,\n",
    "    'IDXBUMN20': 1000000011\n",
    "}\n",
    "\n",
    "index_member = {}\n",
    "\n",
    "for index_name, id_index in tqdm(zip(index_map.keys(), index_map.values())):\n",
    "    url = 'https://exodus.stockbit.com/emitten/v3/sector/88/subsector/{}/company'\n",
    "    r = requests.get(url.format(id_index), headers=headers)\n",
    "    r = json.loads(r.content.decode('utf-8'))\n",
    "    members = [r['data'][i]['symbol'] for i in range(len(r['data']))]\n",
    "    index_member[index_name] = members"
   ]
  },
  {
   "cell_type": "code",
   "execution_count": 329,
   "metadata": {},
   "outputs": [],
   "source": [
    "with open('data/index.json', 'w') as f:\n",
    "    json.dump(index_member, f)"
   ]
  },
  {
   "cell_type": "code",
   "execution_count": 206,
   "metadata": {},
   "outputs": [],
   "source": [
    "def get_alternatives_data(alternatives):\n",
    "    # Data Ratios (Kuanti)\n",
    "    data_ratios = dict()\n",
    "\n",
    "    for f in tqdm(os.listdir('data/ratios')):\n",
    "        with open(f'data/ratios/{f}', 'r') as file:\n",
    "            data_ratios[f[:-5]] = json.load(file)\n",
    "\n",
    "    # Kuali\n",
    "    with open('data/index.json', 'r') as file:\n",
    "        index = json.load(file)\n",
    "\n",
    "    sector = pd.read_csv('data/sector.csv')\n",
    "\n",
    "    cols = [\n",
    "        'Ticker Code',\n",
    "        'Current Ratio (Quarter)',\n",
    "        'Current Share Outstanding',\n",
    "        'Debt to Equity Ratio (Quarter)',\n",
    "        'Enterprise Value',\n",
    "        'EPS Growth Streak',\n",
    "        'Market Cap',\n",
    "        'Net Profit Margin (TTM)(%)',\n",
    "        'Current Price to Book Value',\n",
    "        'Current PE Ratio (TTM)',\n",
    "        'Current Price To Free Cashflow (TTM)',\n",
    "        'Return on Equity (TTM)',\n",
    "        'Sales Growth Streak'\n",
    "    ]\n",
    "\n",
    "    df_alternatives = pd.DataFrame(columns=cols)\n",
    "    for a in alternatives:\n",
    "        print(a)\n",
    "        temp_dict = {\n",
    "            'Ticker Code': [a]\n",
    "        }\n",
    "        for key in tqdm(data_ratios.keys()):\n",
    "            for i in range(len(data_ratios[key])):\n",
    "                if data_ratios[key][i]['company']['symbol'] == a:\n",
    "                    val = data_ratios[key][i]['results'][0]['display']\n",
    "                    item_name = data_ratios[key][i]['results'][0]['item']\n",
    "\n",
    "                    temp_dict[item_name] = val\n",
    "            \n",
    "        temp = pd.DataFrame(temp_dict)\n",
    "        df_alternatives = pd.concat([df_alternatives, temp])\n",
    "\n",
    "    index_to_append = list()\n",
    "    sector_to_append = list()\n",
    "    for i in range(len(alternatives)):\n",
    "        member_to = []\n",
    "        for k in index:\n",
    "            if alternatives[i] in index[k]:\n",
    "                member_to.append(k)\n",
    "        if member_to:\n",
    "            out = random.choice(member_to)\n",
    "            index_to_append.append(out)\n",
    "        else:\n",
    "            index_to_append.append('Others')\n",
    "\n",
    "        sector_to_append.append(sector[sector['ticker'] == alternatives[i]].iloc[0]['sector'])\n",
    "\n",
    "    df_alternatives['sector'] = sector_to_append\n",
    "    df_alternatives['index'] = index_to_append\n",
    "\n",
    "    return df_alternatives"
   ]
  },
  {
   "cell_type": "code",
   "execution_count": 1,
   "metadata": {},
   "outputs": [],
   "source": [
    "alternatives = [\n",
    "  \"ADRO\",\n",
    "  \"PWON\",\n",
    "  \"TLKM\",\n",
    "  \"INDF\",\n",
    "  \"SMGR\"\n",
    "]"
   ]
  },
  {
   "cell_type": "code",
   "execution_count": 35,
   "metadata": {},
   "outputs": [
    {
     "name": "stderr",
     "output_type": "stream",
     "text": [
      "  0%|          | 0/12 [00:00<?, ?it/s]"
     ]
    },
    {
     "name": "stderr",
     "output_type": "stream",
     "text": [
      "100%|██████████| 12/12 [00:00<00:00, 127.00it/s]\n"
     ]
    },
    {
     "name": "stdout",
     "output_type": "stream",
     "text": [
      "ADRO\n"
     ]
    },
    {
     "name": "stderr",
     "output_type": "stream",
     "text": [
      "100%|██████████| 12/12 [00:00<00:00, 2389.35it/s]\n"
     ]
    },
    {
     "name": "stdout",
     "output_type": "stream",
     "text": [
      "PWON\n"
     ]
    },
    {
     "name": "stderr",
     "output_type": "stream",
     "text": [
      "100%|██████████| 12/12 [00:00<00:00, 1888.83it/s]\n"
     ]
    },
    {
     "name": "stdout",
     "output_type": "stream",
     "text": [
      "TLKM\n"
     ]
    },
    {
     "name": "stderr",
     "output_type": "stream",
     "text": [
      "100%|██████████| 12/12 [00:00<00:00, 1890.46it/s]\n"
     ]
    },
    {
     "name": "stdout",
     "output_type": "stream",
     "text": [
      "INDF\n"
     ]
    },
    {
     "name": "stderr",
     "output_type": "stream",
     "text": [
      "100%|██████████| 12/12 [00:00<00:00, 1733.18it/s]\n"
     ]
    },
    {
     "name": "stdout",
     "output_type": "stream",
     "text": [
      "SMGR\n"
     ]
    },
    {
     "name": "stderr",
     "output_type": "stream",
     "text": [
      "100%|██████████| 12/12 [00:00<00:00, 1802.32it/s]\n"
     ]
    }
   ],
   "source": []
  },
  {
   "cell_type": "code",
   "execution_count": 36,
   "metadata": {},
   "outputs": [
    {
     "data": {
      "text/html": [
       "<div>\n",
       "<style scoped>\n",
       "    .dataframe tbody tr th:only-of-type {\n",
       "        vertical-align: middle;\n",
       "    }\n",
       "\n",
       "    .dataframe tbody tr th {\n",
       "        vertical-align: top;\n",
       "    }\n",
       "\n",
       "    .dataframe thead th {\n",
       "        text-align: right;\n",
       "    }\n",
       "</style>\n",
       "<table border=\"1\" class=\"dataframe\">\n",
       "  <thead>\n",
       "    <tr style=\"text-align: right;\">\n",
       "      <th></th>\n",
       "      <th>Ticker Code</th>\n",
       "      <th>Current Ratio (Quarter)</th>\n",
       "      <th>Current Share Outstanding</th>\n",
       "      <th>Debt to Equity Ratio (Quarter)</th>\n",
       "      <th>Enterprise Value</th>\n",
       "      <th>EPS Growth Streak</th>\n",
       "      <th>Market Cap</th>\n",
       "      <th>Net Profit Margin (TTM)(%)</th>\n",
       "      <th>Current Price to Book Value</th>\n",
       "      <th>Current PE Ratio (TTM)</th>\n",
       "      <th>Current Price To Free Cashflow (TTM)</th>\n",
       "      <th>Return on Equity (TTM)</th>\n",
       "      <th>Sales Growth Streak</th>\n",
       "      <th>sector</th>\n",
       "      <th>index</th>\n",
       "    </tr>\n",
       "  </thead>\n",
       "  <tbody>\n",
       "    <tr>\n",
       "      <th>0</th>\n",
       "      <td>ADRO</td>\n",
       "      <td>2.01</td>\n",
       "      <td>31.99 B</td>\n",
       "      <td>0.21</td>\n",
       "      <td>67,234.67 B</td>\n",
       "      <td>5.00</td>\n",
       "      <td>86,362.10 B</td>\n",
       "      <td>25.18%</td>\n",
       "      <td>0.83</td>\n",
       "      <td>3.41</td>\n",
       "      <td>9.90</td>\n",
       "      <td>24.24%</td>\n",
       "      <td>5.00</td>\n",
       "      <td>Energi</td>\n",
       "      <td>IDXHIDIV20</td>\n",
       "    </tr>\n",
       "    <tr>\n",
       "      <th>0</th>\n",
       "      <td>PWON</td>\n",
       "      <td>5.16</td>\n",
       "      <td>48.16 B</td>\n",
       "      <td>0.32</td>\n",
       "      <td>22,651.36 B</td>\n",
       "      <td>4.00</td>\n",
       "      <td>20,419.67 B</td>\n",
       "      <td>33.95%</td>\n",
       "      <td>1.07</td>\n",
       "      <td>9.70</td>\n",
       "      <td>13.93</td>\n",
       "      <td>11.02%</td>\n",
       "      <td>5.00</td>\n",
       "      <td>Properti &amp; Real Estat</td>\n",
       "      <td>Others</td>\n",
       "    </tr>\n",
       "    <tr>\n",
       "      <th>0</th>\n",
       "      <td>TLKM</td>\n",
       "      <td>0.78</td>\n",
       "      <td>99.06 B</td>\n",
       "      <td>0.35</td>\n",
       "      <td>383,255.89 B</td>\n",
       "      <td>9.00</td>\n",
       "      <td>343,745.89 B</td>\n",
       "      <td>16.46%</td>\n",
       "      <td>2.53</td>\n",
       "      <td>14.00</td>\n",
       "      <td>14.23</td>\n",
       "      <td>18.09%</td>\n",
       "      <td>5.00</td>\n",
       "      <td>Infrastruktur</td>\n",
       "      <td>IDXHIDIV20</td>\n",
       "    </tr>\n",
       "    <tr>\n",
       "      <th>0</th>\n",
       "      <td>INDF</td>\n",
       "      <td>1.92</td>\n",
       "      <td>8.78 B</td>\n",
       "      <td>1.10</td>\n",
       "      <td>133,751.71 B</td>\n",
       "      <td>-</td>\n",
       "      <td>55,975.22 B</td>\n",
       "      <td>7.29%</td>\n",
       "      <td>0.95</td>\n",
       "      <td>6.87</td>\n",
       "      <td>3.79</td>\n",
       "      <td>13.76%</td>\n",
       "      <td>17.00</td>\n",
       "      <td>Barang Konsumen Primer</td>\n",
       "      <td>IDXHIDIV20</td>\n",
       "    </tr>\n",
       "    <tr>\n",
       "      <th>0</th>\n",
       "      <td>SMGR</td>\n",
       "      <td>1.23</td>\n",
       "      <td>6.75 B</td>\n",
       "      <td>0.32</td>\n",
       "      <td>51,456.67 B</td>\n",
       "      <td>-</td>\n",
       "      <td>39,839.91 B</td>\n",
       "      <td>5.62%</td>\n",
       "      <td>0.92</td>\n",
       "      <td>18.36</td>\n",
       "      <td>9.99</td>\n",
       "      <td>5.02%</td>\n",
       "      <td>-</td>\n",
       "      <td>Barang Baku</td>\n",
       "      <td>IDXHIDIV20</td>\n",
       "    </tr>\n",
       "  </tbody>\n",
       "</table>\n",
       "</div>"
      ],
      "text/plain": [
       "  Ticker Code Current Ratio (Quarter) Current Share Outstanding  \\\n",
       "0        ADRO                    2.01                   31.99 B   \n",
       "0        PWON                    5.16                   48.16 B   \n",
       "0        TLKM                    0.78                   99.06 B   \n",
       "0        INDF                    1.92                    8.78 B   \n",
       "0        SMGR                    1.23                    6.75 B   \n",
       "\n",
       "  Debt to Equity Ratio (Quarter) Enterprise Value EPS Growth Streak  \\\n",
       "0                           0.21      67,234.67 B              5.00   \n",
       "0                           0.32      22,651.36 B              4.00   \n",
       "0                           0.35     383,255.89 B              9.00   \n",
       "0                           1.10     133,751.71 B                 -   \n",
       "0                           0.32      51,456.67 B                 -   \n",
       "\n",
       "     Market Cap Net Profit Margin (TTM)(%) Current Price to Book Value  \\\n",
       "0   86,362.10 B                     25.18%                        0.83   \n",
       "0   20,419.67 B                     33.95%                        1.07   \n",
       "0  343,745.89 B                     16.46%                        2.53   \n",
       "0   55,975.22 B                      7.29%                        0.95   \n",
       "0   39,839.91 B                      5.62%                        0.92   \n",
       "\n",
       "  Current PE Ratio (TTM) Current Price To Free Cashflow (TTM)  \\\n",
       "0                   3.41                                 9.90   \n",
       "0                   9.70                                13.93   \n",
       "0                  14.00                                14.23   \n",
       "0                   6.87                                 3.79   \n",
       "0                  18.36                                 9.99   \n",
       "\n",
       "  Return on Equity (TTM) Sales Growth Streak                  sector  \\\n",
       "0                 24.24%                5.00                  Energi   \n",
       "0                 11.02%                5.00   Properti & Real Estat   \n",
       "0                 18.09%                5.00           Infrastruktur   \n",
       "0                 13.76%               17.00  Barang Konsumen Primer   \n",
       "0                  5.02%                   -             Barang Baku   \n",
       "\n",
       "        index  \n",
       "0  IDXHIDIV20  \n",
       "0      Others  \n",
       "0  IDXHIDIV20  \n",
       "0  IDXHIDIV20  \n",
       "0  IDXHIDIV20  "
      ]
     },
     "execution_count": 36,
     "metadata": {},
     "output_type": "execute_result"
    }
   ],
   "source": [
    "df_alternatives"
   ]
  }
 ],
 "metadata": {
  "kernelspec": {
   "display_name": "Python 3",
   "language": "python",
   "name": "python3"
  },
  "language_info": {
   "codemirror_mode": {
    "name": "ipython",
    "version": 3
   },
   "file_extension": ".py",
   "mimetype": "text/x-python",
   "name": "python",
   "nbconvert_exporter": "python",
   "pygments_lexer": "ipython3",
   "version": "3.10.7"
  }
 },
 "nbformat": 4,
 "nbformat_minor": 2
}
